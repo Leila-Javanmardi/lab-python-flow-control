{
 "cells": [
  {
   "cell_type": "markdown",
   "id": "d3bfc191-8885-42ee-b0a0-bbab867c6f9f",
   "metadata": {
    "tags": []
   },
   "source": [
    "# Lab | Flow Control"
   ]
  },
  {
   "cell_type": "markdown",
   "id": "3851fcd1-cf98-4653-9c89-e003b7ec9400",
   "metadata": {},
   "source": [
    "## Exercise: Managing Customer Orders Optimized\n",
    "\n",
    "In the last lab, you were starting an online store that sells various products. To ensure smooth operations, you developed a program that manages customer orders and inventory.\n",
    "\n",
    "You did so without using flow control. Let's go a step further and improve this code.\n",
    "\n",
    "Follow the steps below to complete the exercise:\n",
    "\n",
    "1. Look at your code from the lab data structures, and improve repeated code with loops.\n",
    "\n",
    "2. Instead of asking the user to input the name of three products that a customer wants to order, do the following:\n",
    "    \n",
    "    a. Prompt the user to enter the name of a product that a customer wants to order.\n",
    "    \n",
    "    b. Add the product name to the \"customer_orders\" set.\n",
    "    \n",
    "    c. Ask the user if they want to add another product (yes/no).\n",
    "    \n",
    "    d. Continue the loop until the user does not want to add another product.\n",
    "\n",
    "3. Instead of updating the inventory by subtracting 1 from the quantity of each product, only do it for  the products that were ordered (those in \"customer_orders\")."
   ]
  },
  {
   "cell_type": "code",
   "execution_count": 4,
   "id": "8828e341",
   "metadata": {},
   "outputs": [
    {
     "name": "stdout",
     "output_type": "stream",
     "text": [
      "please enter the quantity of t-shirt y\n",
      "please enter a number\n",
      "please enter the quantity of t-shirt -7\n",
      "please enter a number\n",
      "please enter the quantity of t-shirt 6\n",
      "please enter the quantity of mug 4\n",
      "please enter the quantity of hat 9\n",
      "please enter the quantity of book 10\n",
      "please enter the quantity of keychain 4\n",
      "{'t-shirt': 6, 'mug': 4, 'hat': 9, 'book': 10, 'keychain': 4}\n"
     ]
    }
   ],
   "source": [
    "products =[\"t-shirt\", \"mug\", \"hat\", \"book\", \"keychain\"]\n",
    "inventory = {}\n",
    "for element in products:\n",
    "    while True:\n",
    "        Values = (input(f'please enter the quantity of {element} '))\n",
    "        if Values.isdigit():\n",
    "            inventory[element] = int(Values)\n",
    "            break\n",
    "        else:\n",
    "            print('please enter a number')\n",
    "print(inventory)"
   ]
  },
  {
   "cell_type": "code",
   "execution_count": 14,
   "id": "655a9d6a",
   "metadata": {},
   "outputs": [
    {
     "name": "stdout",
     "output_type": "stream",
     "text": [
      "please enter the name of a product from the follwoing ['t-shirt', 'mug', 'hat', 'book', 'keychain'] M\n",
      "I think you did not enter the name correctly\n",
      "please enter the name of a product from the follwoing list: t-shirt, mug, hat, book, keychain Mug\n",
      "Do you want to add another product (yes/no)yes\n",
      "please enter the name of a product from the follwoing ['t-shirt', 'mug', 'hat', 'book', 'keychain'] H\n",
      "I think you did not enter the name correctly\n",
      "please enter the name of a product from the follwoing list: t-shirt, mug, hat, book, keychain Hat\n",
      "Do you want to add another product (yes/no)yes\n",
      "please enter the name of a product from the follwoing ['t-shirt', 'mug', 'hat', 'book', 'keychain'] book\n",
      "Do you want to add another product (yes/no)yes\n",
      "please enter the name of a product from the follwoing ['t-shirt', 'mug', 'hat', 'book', 'keychain'] Key\n",
      "I think you did not enter the name correctly\n",
      "please enter the name of a product from the follwoing list: t-shirt, mug, hat, book, keychain Keychain\n",
      "Do you want to add another product (yes/no)no\n",
      "thank you for shoping\n"
     ]
    }
   ],
   "source": [
    "customer_orders = set()\n",
    "switch = True\n",
    "while switch == True:\n",
    "    requests= input(f'please enter the name of a product from the follwoing {products} ')\n",
    "    requests_low = requests.lower()\n",
    "    while requests_low not in products:\n",
    "        print('I think you did not enter the name correctly')\n",
    "        requests= input('please enter the name of a product from the follwoing list: t-shirt, mug, hat, book, keychain ')\n",
    "        requests_low = requests.lower()\n",
    "        \n",
    "    customer_orders.add(requests_low)\n",
    "    users_answer =(input('Do you want to add another product (yes/no)').upper())\n",
    "    if users_answer.strip() == 'YES':\n",
    "        switch = True\n",
    "    else:\n",
    "        break\n",
    "\n",
    "print ('thank you for shoping')\n"
   ]
  },
  {
   "cell_type": "code",
   "execution_count": 16,
   "id": "0efa521c",
   "metadata": {},
   "outputs": [
    {
     "name": "stdout",
     "output_type": "stream",
     "text": [
      "Order Statistics: Total Products Ordered: 4 , Percentage of Products Ordered: 12.121212121212121\n",
      "{'t-shirt': 6, 'mug': 3, 'hat': 8, 'book': 9, 'keychain': 3}\n"
     ]
    }
   ],
   "source": [
    "Total_Products_Ordered = len(customer_orders)\n",
    "total_available_products = sum(inventory.values())\n",
    "percent_orders = (Total_Products_Ordered / total_available_products *100)\n",
    "order_status=(Total_Products_Ordered,percent_orders)\n",
    "print(f'Order Statistics: Total Products Ordered: {order_status[0]} , Percentage of Products Ordered: {order_status[1]}')\n",
    "for key,values in inventory.items():\n",
    "    if key in customer_orders:\n",
    "        inventory[key]= values -1\n",
    "print(inventory)"
   ]
  },
  {
   "cell_type": "code",
   "execution_count": null,
   "id": "ee117e44",
   "metadata": {},
   "outputs": [],
   "source": []
  }
 ],
 "metadata": {
  "kernelspec": {
   "display_name": "Python 3 (ipykernel)",
   "language": "python",
   "name": "python3"
  },
  "language_info": {
   "codemirror_mode": {
    "name": "ipython",
    "version": 3
   },
   "file_extension": ".py",
   "mimetype": "text/x-python",
   "name": "python",
   "nbconvert_exporter": "python",
   "pygments_lexer": "ipython3",
   "version": "3.11.5"
  }
 },
 "nbformat": 4,
 "nbformat_minor": 5
}
